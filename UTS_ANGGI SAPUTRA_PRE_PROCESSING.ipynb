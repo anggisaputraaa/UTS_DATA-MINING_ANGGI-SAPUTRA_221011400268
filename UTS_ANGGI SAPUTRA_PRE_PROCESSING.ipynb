{
 "cells": [
  {
   "cell_type": "code",
   "execution_count": null,
   "id": "d37791cf-06bb-43f7-a450-83dc65e365f6",
   "metadata": {},
   "outputs": [],
   "source": [
    "#1 Lakukan analisa mengenai field mana saja yang memiliki data kosong(Nan) lalu Isi data yang kosong tersebut menggunakan nilai mean"
   ]
  },
  {
   "cell_type": "code",
   "execution_count": 18,
   "id": "a15daac6-5c3f-44db-81f9-f3214130e95c",
   "metadata": {},
   "outputs": [
    {
     "data": {
      "text/html": [
       "<div>\n",
       "<style scoped>\n",
       "    .dataframe tbody tr th:only-of-type {\n",
       "        vertical-align: middle;\n",
       "    }\n",
       "\n",
       "    .dataframe tbody tr th {\n",
       "        vertical-align: top;\n",
       "    }\n",
       "\n",
       "    .dataframe thead th {\n",
       "        text-align: right;\n",
       "    }\n",
       "</style>\n",
       "<table border=\"1\" class=\"dataframe\">\n",
       "  <thead>\n",
       "    <tr style=\"text-align: right;\">\n",
       "      <th></th>\n",
       "      <th>R&amp;D Spend</th>\n",
       "      <th>Administration</th>\n",
       "      <th>Marketing Spend</th>\n",
       "      <th>State</th>\n",
       "      <th>Profit</th>\n",
       "    </tr>\n",
       "  </thead>\n",
       "  <tbody>\n",
       "    <tr>\n",
       "      <th>3</th>\n",
       "      <td>144372.41</td>\n",
       "      <td>118671.85</td>\n",
       "      <td>383199.62</td>\n",
       "      <td>New York</td>\n",
       "      <td>182901.99</td>\n",
       "    </tr>\n",
       "    <tr>\n",
       "      <th>8</th>\n",
       "      <td>120542.52</td>\n",
       "      <td>148718.95</td>\n",
       "      <td>311613.29</td>\n",
       "      <td>New York</td>\n",
       "      <td>152211.77</td>\n",
       "    </tr>\n",
       "    <tr>\n",
       "      <th>6</th>\n",
       "      <td>134615.46</td>\n",
       "      <td>147198.87</td>\n",
       "      <td>127716.82</td>\n",
       "      <td>California</td>\n",
       "      <td>156122.51</td>\n",
       "    </tr>\n",
       "    <tr>\n",
       "      <th>34</th>\n",
       "      <td>46426.07</td>\n",
       "      <td>157693.92</td>\n",
       "      <td>210797.67</td>\n",
       "      <td>California</td>\n",
       "      <td>96712.80</td>\n",
       "    </tr>\n",
       "    <tr>\n",
       "      <th>47</th>\n",
       "      <td>NaN</td>\n",
       "      <td>135426.92</td>\n",
       "      <td>NaN</td>\n",
       "      <td>California</td>\n",
       "      <td>42559.73</td>\n",
       "    </tr>\n",
       "    <tr>\n",
       "      <th>30</th>\n",
       "      <td>61994.48</td>\n",
       "      <td>115641.28</td>\n",
       "      <td>91131.24</td>\n",
       "      <td>Florida</td>\n",
       "      <td>99937.59</td>\n",
       "    </tr>\n",
       "    <tr>\n",
       "      <th>42</th>\n",
       "      <td>23640.93</td>\n",
       "      <td>96189.63</td>\n",
       "      <td>148001.11</td>\n",
       "      <td>California</td>\n",
       "      <td>71498.49</td>\n",
       "    </tr>\n",
       "  </tbody>\n",
       "</table>\n",
       "</div>"
      ],
      "text/plain": [
       "    R&D Spend  Administration  Marketing Spend       State     Profit\n",
       "3   144372.41       118671.85        383199.62    New York  182901.99\n",
       "8   120542.52       148718.95        311613.29    New York  152211.77\n",
       "6   134615.46       147198.87        127716.82  California  156122.51\n",
       "34   46426.07       157693.92        210797.67  California   96712.80\n",
       "47        NaN       135426.92              NaN  California   42559.73\n",
       "30   61994.48       115641.28         91131.24     Florida   99937.59\n",
       "42   23640.93        96189.63        148001.11  California   71498.49"
      ]
     },
     "execution_count": 18,
     "metadata": {},
     "output_type": "execute_result"
    }
   ],
   "source": [
    "import pandas as pd\n",
    "\n",
    "# Membaca data dari file CSV\n",
    "data_startup = pd.read_csv('50_Startups.csv')\n",
    "data_startup.sample(7)"
   ]
  },
  {
   "cell_type": "code",
   "execution_count": 9,
   "id": "4fd92c16-17a4-4d13-b776-e57f9c37faf8",
   "metadata": {},
   "outputs": [],
   "source": [
    "# Menemukan kolom yang memiliki data kosong (NaN)\n",
    "missing_data_columns = data_startup.columns[data_startup.isnull().any()].tolist()"
   ]
  },
  {
   "cell_type": "code",
   "execution_count": 10,
   "id": "d2e45f23-1032-4ccd-84a3-10c1249c4b28",
   "metadata": {},
   "outputs": [],
   "source": [
    "# Menghitung nilai mean untuk setiap kolom yang memiliki data kosong\n",
    "mean_values = {column: data_startup[column].mean() for column in missing_data_columns}"
   ]
  },
  {
   "cell_type": "code",
   "execution_count": 14,
   "id": "24be38d3-1bc5-465b-89d3-7f70569c0e9a",
   "metadata": {},
   "outputs": [],
   "source": [
    "# Mengisi data kosong dengan nilai mean\n",
    "data_startup.fillna(mean_values, inplace=True)"
   ]
  },
  {
   "cell_type": "code",
   "execution_count": 17,
   "id": "3177888a-0acb-4f99-a765-4a59fff3b261",
   "metadata": {},
   "outputs": [
    {
     "name": "stdout",
     "output_type": "stream",
     "text": [
      "    R&D Spend  Administration  Marketing Spend     State     Profit\n",
      "28   66051.52       182645.56    118148.200000   Florida  103282.38\n",
      "12   93863.75       127320.38    249839.440000   Florida  141585.52\n",
      "17   94657.16       145077.58    282574.310000  New York  125370.37\n",
      "19   86419.70       153514.11    223582.690222  New York  122776.86\n",
      "5   131876.90        99814.71    362861.360000  New York  156991.12\n",
      "4   142107.34        91391.77    366168.420000   Florida  166187.94\n",
      "46    1315.46       115816.21    297114.460000   Florida   49490.75\n"
     ]
    }
   ],
   "source": [
    "# Menampilkan hasil pre-processing\n",
    "print(data_startup.sample(7))"
   ]
  },
  {
   "cell_type": "code",
   "execution_count": null,
   "id": "944c350d-cc62-413e-986d-8c70a780b40a",
   "metadata": {},
   "outputs": [],
   "source": []
  },
  {
   "cell_type": "code",
   "execution_count": null,
   "id": "cd3c6e13-e7b1-4ad9-bfb0-183f68c74560",
   "metadata": {},
   "outputs": [],
   "source": [
    "#2 lakukan oneHotEncoder ke field state"
   ]
  },
  {
   "cell_type": "code",
   "execution_count": 29,
   "id": "6eb9e6e4-32a7-4242-bbcd-a3d32d5f3381",
   "metadata": {},
   "outputs": [],
   "source": [
    "import pandas as pd"
   ]
  },
  {
   "cell_type": "code",
   "execution_count": null,
   "id": "1ddd7162-274e-4ecd-a83c-c7b81af6da50",
   "metadata": {},
   "outputs": [],
   "source": [
    "# Membaca data dari file CSV\n",
    "data_startup = pd.read_csv('50_Startups.csv')"
   ]
  },
  {
   "cell_type": "code",
   "execution_count": null,
   "id": "923c59f3-af87-46ee-ac98-3f41b1c014f3",
   "metadata": {},
   "outputs": [],
   "source": [
    "# Melakukan one-hot encoding pada kolom 'State'\n",
    "data_encoded = pd.get_dummies(data_startup, columns=['State'])"
   ]
  },
  {
   "cell_type": "code",
   "execution_count": 30,
   "id": "6b9ae854-c902-49d1-9db6-b5522bbb665a",
   "metadata": {},
   "outputs": [
    {
     "name": "stdout",
     "output_type": "stream",
     "text": [
      "    R&D Spend  Administration  Marketing Spend     Profit  State_California  \\\n",
      "32   63408.86       129219.61         46085.25   97427.84              True   \n",
      "8   120542.52       148718.95        311613.29  152211.77             False   \n",
      "0   165349.20       136897.80        471784.10  192261.83             False   \n",
      "37   44069.95             NaN        197029.42   89949.14              True   \n",
      "49        NaN       116983.80         45173.06   14681.40              True   \n",
      "4   142107.34        91391.77        366168.42  166187.94             False   \n",
      "42   23640.93        96189.63        148001.11   71498.49              True   \n",
      "\n",
      "    State_Florida  State_New York  \n",
      "32          False           False  \n",
      "8           False            True  \n",
      "0           False            True  \n",
      "37          False           False  \n",
      "49          False           False  \n",
      "4            True           False  \n",
      "42          False           False  \n"
     ]
    }
   ],
   "source": [
    "# Menampilkan hasil encoding\n",
    "print(data_encoded.sample(7))"
   ]
  },
  {
   "cell_type": "code",
   "execution_count": null,
   "id": "1c8e3b77-cea2-4fb2-b5a8-9af9508e5837",
   "metadata": {},
   "outputs": [],
   "source": []
  },
  {
   "cell_type": "code",
   "execution_count": null,
   "id": "337553bc-09f2-4a97-b7e5-3d46a6704ed0",
   "metadata": {},
   "outputs": [],
   "source": [
    "#3 buat field baru yaitu Tax. dimana Tax = (profit + Marketing Spend + administration) * 5%\n",
    "import pandas as pd"
   ]
  },
  {
   "cell_type": "code",
   "execution_count": null,
   "id": "8d0ce5da-5a84-44bf-aa46-2723b05dc1d4",
   "metadata": {},
   "outputs": [],
   "source": [
    "# Membaca data dari file CSV\n",
    "data_startup = pd.read_csv('50_Startups.csv')"
   ]
  },
  {
   "cell_type": "code",
   "execution_count": null,
   "id": "a824297c-0333-46a0-b65c-9c66abbdc11a",
   "metadata": {},
   "outputs": [],
   "source": [
    "# Menghitung Tax berdasarkan rumus yang diberikan\n",
    "data_startup['Tax'] = (data_startup['Profit'] + data_startup['Marketing Spend'] + data_startup['Administration']) * 0.05"
   ]
  },
  {
   "cell_type": "code",
   "execution_count": 31,
   "id": "10ed7b9f-e099-4ab6-9679-15a189ca20de",
   "metadata": {},
   "outputs": [
    {
     "name": "stdout",
     "output_type": "stream",
     "text": [
      "    R&D Spend  Administration  Marketing Spend       State     Profit\n",
      "20   76253.86       113867.30        298664.47  California  118474.03\n",
      "21   78389.47       153773.43        299737.29    New York  111313.02\n",
      "4   142107.34        91391.77        366168.42     Florida  166187.94\n",
      "39   38558.51        82982.09        174999.30  California   81005.76\n",
      "48     542.05        51743.15              NaN    New York   35673.41\n",
      "16   78013.11       121597.55        264346.06  California  126992.93\n",
      "28   66051.52       182645.56        118148.20     Florida  103282.38\n"
     ]
    }
   ],
   "source": [
    "# Menampilkan hasil dengan kolom Tax baru\n",
    "print(data_startup.sample(7))"
   ]
  },
  {
   "cell_type": "code",
   "execution_count": null,
   "id": "e4280523-75b8-4d28-bf65-e7ef4fa0e2bb",
   "metadata": {},
   "outputs": [],
   "source": []
  },
  {
   "cell_type": "code",
   "execution_count": null,
   "id": "7c2d3b86-d8f8-41b5-b9c2-4d61e526f098",
   "metadata": {},
   "outputs": [],
   "source": [
    "#4 Jalankan standardScaler field-field tersebut\n",
    "\n",
    "from sklearn.preprocessing import StandardScaler\n",
    "import pandas as pd"
   ]
  },
  {
   "cell_type": "code",
   "execution_count": null,
   "id": "33316ce0-fc84-4384-b6da-8953ed5169c2",
   "metadata": {},
   "outputs": [],
   "source": [
    "# Membaca data dari file CSV\n",
    "data_startup = pd.read_csv('50_Startups.csv')"
   ]
  },
  {
   "cell_type": "code",
   "execution_count": null,
   "id": "a15e8e98-a9ac-44bc-bb05-e3ace278dc10",
   "metadata": {},
   "outputs": [],
   "source": [
    "# Mengambil kolom numerik untuk scaling\n",
    "numeric_columns = data_startup.select_dtypes(include=['float64', 'int64']).columns"
   ]
  },
  {
   "cell_type": "code",
   "execution_count": null,
   "id": "dc873b47-9529-42f8-b160-e0d42d1cf3ac",
   "metadata": {},
   "outputs": [],
   "source": [
    "# Inisialisasi StandardScaler\n",
    "scaler = StandardScaler()"
   ]
  },
  {
   "cell_type": "code",
   "execution_count": null,
   "id": "9c490074-d46d-43a7-b5e3-d2df6564fe06",
   "metadata": {},
   "outputs": [],
   "source": [
    "# Fitting dan transformasi data\n",
    "data_startup[numeric_columns] = scaler.fit_transform(data_startup[numeric_columns])"
   ]
  },
  {
   "cell_type": "code",
   "execution_count": 32,
   "id": "17e4f5ec-ecba-478e-9b5e-aae7dd2c05b5",
   "metadata": {},
   "outputs": [
    {
     "name": "stdout",
     "output_type": "stream",
     "text": [
      "    R&D Spend  Administration  Marketing Spend       State     Profit\n",
      "8   120542.52       148718.95        311613.29    New York  152211.77\n",
      "48     542.05        51743.15              NaN    New York   35673.41\n",
      "29   65605.48       153032.06        107138.38    New York  101004.64\n",
      "44   22177.74       154806.14         28334.72  California   65200.33\n",
      "1   162597.70       151377.59        443898.53  California  191792.06\n",
      "25   64664.71       139553.16        137962.62  California  107404.34\n",
      "19   86419.70       153514.11              NaN    New York  122776.86\n"
     ]
    }
   ],
   "source": [
    "# Menampilkan hasil scaling\n",
    "print(data_startup.sample(7))"
   ]
  },
  {
   "cell_type": "code",
   "execution_count": null,
   "id": "ba86aa96-8787-4e74-9baa-37d4b5ea0922",
   "metadata": {},
   "outputs": [],
   "source": []
  }
 ],
 "metadata": {
  "kernelspec": {
   "display_name": "Python 3 (ipykernel)",
   "language": "python",
   "name": "python3"
  },
  "language_info": {
   "codemirror_mode": {
    "name": "ipython",
    "version": 3
   },
   "file_extension": ".py",
   "mimetype": "text/x-python",
   "name": "python",
   "nbconvert_exporter": "python",
   "pygments_lexer": "ipython3",
   "version": "3.11.7"
  }
 },
 "nbformat": 4,
 "nbformat_minor": 5
}
